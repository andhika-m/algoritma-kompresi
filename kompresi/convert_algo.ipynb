{
 "cells": [
  {
   "cell_type": "code",
   "execution_count": 3,
   "metadata": {},
   "outputs": [
    {
     "name": "stdout",
     "output_type": "stream",
     "text": [
      "Requirement already satisfied: pillow in c:\\users\\andhika\\anaconda3\\envs\\notebook\\lib\\site-packages (10.3.0)\n",
      "Requirement already satisfied: opencv-python in c:\\users\\andhika\\anaconda3\\envs\\notebook\\lib\\site-packages (4.10.0.84)\n",
      "Requirement already satisfied: pydub in c:\\users\\andhika\\anaconda3\\envs\\notebook\\lib\\site-packages (0.25.1)\n",
      "Requirement already satisfied: numpy>=1.21.2 in c:\\users\\andhika\\anaconda3\\envs\\notebook\\lib\\site-packages (from opencv-python) (2.0.0)\n",
      "Note: you may need to restart the kernel to use updated packages.\n"
     ]
    }
   ],
   "source": [
    "%pip install pillow opencv-python pydub"
   ]
  },
  {
   "cell_type": "code",
   "execution_count": 4,
   "metadata": {},
   "outputs": [],
   "source": [
    "import zlib\n",
    "\n",
    "def compress_deflate(data):\n",
    "    return zlib.compress(data)\n",
    "\n",
    "def decompress_deflate(data):\n",
    "    return zlib.decompress(data)\n"
   ]
  },
  {
   "cell_type": "code",
   "execution_count": 5,
   "metadata": {},
   "outputs": [],
   "source": [
    "import lzma\n",
    "\n",
    "def compress_lzma(data):\n",
    "    return lzma.compress(data)\n",
    "\n",
    "def decompress_lzma(data):\n",
    "    return lzma.decompress(data)\n"
   ]
  },
  {
   "cell_type": "code",
   "execution_count": 6,
   "metadata": {},
   "outputs": [],
   "source": [
    "import time\n",
    "\n",
    "def measure_compression(func, data):\n",
    "    start_time = time.time()\n",
    "    compressed_data = func(data)\n",
    "    end_time = time.time()\n",
    "    duration = end_time - start_time\n",
    "    size = len(compressed_data)\n",
    "    return compressed_data, size, duration\n",
    "\n",
    "def save_compressed_file(data, filename):\n",
    "    with open(filename, 'wb') as file:\n",
    "        file.write(data)\n"
   ]
  },
  {
   "cell_type": "code",
   "execution_count": 7,
   "metadata": {},
   "outputs": [],
   "source": [
    "import os\n",
    "import tkinter as tk\n",
    "from tkinter import filedialog, messagebox\n",
    "\n",
    "def open_file():\n",
    "    filepath = filedialog.askopenfilename()\n",
    "    if filepath:\n",
    "        file_label.config(text=f\"Selected file: {filepath}\")\n",
    "        global selected_file_path\n",
    "        selected_file_path = filepath\n",
    "\n",
    "def compress_file():\n",
    "    if not selected_file_path:\n",
    "        messagebox.showerror(\"Error\", \"No file selected!\")\n",
    "        return\n",
    "    \n",
    "    try:\n",
    "        with open(selected_file_path, 'rb') as file:\n",
    "            data = file.read()\n",
    "        \n",
    "        global original_size, compressed_deflate, compressed_lzma, file_name, file_ext\n",
    "        original_size = len(data)\n",
    "        \n",
    "        compressed_deflate, size_deflate, time_deflate = measure_compression(compress_deflate, data)\n",
    "        compressed_lzma, size_lzma, time_lzma = measure_compression(compress_lzma, data)\n",
    "        \n",
    "        result = f\"Original Size: {original_size} bytes\\n\\n\"\n",
    "        result += f\"DEFLATE: Compressed Size = {size_deflate} bytes, Time = {time_deflate:.5f} seconds\\n\"\n",
    "        result += f\"LZMA: Compressed Size = {size_lzma} bytes, Time = {time_lzma:.5f} seconds\"\n",
    "        result_label.config(text=result)\n",
    "        \n",
    "        file_name, file_ext = os.path.splitext(os.path.basename(selected_file_path))\n",
    "        \n",
    "    except Exception as e:\n",
    "        messagebox.showerror(\"Error\", str(e))\n",
    "\n",
    "def save_files():\n",
    "    if not compressed_deflate or not compressed_lzma:\n",
    "        messagebox.showerror(\"Error\", \"No compressed data to save!\")\n",
    "        return\n",
    "    \n",
    "    try:\n",
    "        deflate_path = os.path.join('results', f'compressed_deflate_{file_name}{file_ext}')\n",
    "        lzma_path = os.path.join('results', f'compressed_lzma_{file_name}{file_ext}')\n",
    "        \n",
    "        save_compressed_file(decompress_deflate(compressed_deflate), deflate_path)\n",
    "        save_compressed_file(decompress_lzma(compressed_lzma), lzma_path)\n",
    "        \n",
    "        messagebox.showinfo(\"Success\", f\"Files saved as:\\n{deflate_path}\\n{lzma_path}\")\n",
    "    except Exception as e:\n",
    "        messagebox.showerror(\"Error\", str(e))\n",
    "\n",
    "app = tk.Tk()\n",
    "app.title(\"Compression Comparison\")\n",
    "app.geometry(\"600x400\")\n",
    "\n",
    "selected_file_path = \"\"\n",
    "compressed_deflate = None\n",
    "compressed_lzma = None\n",
    "original_size = 0\n",
    "file_name = \"\"\n",
    "file_ext = \"\"\n",
    "\n",
    "open_button = tk.Button(app, text=\"Open File\", command=open_file)\n",
    "open_button.pack(pady=10)\n",
    "\n",
    "file_label = tk.Label(app, text=\"No file selected\")\n",
    "file_label.pack(pady=10)\n",
    "\n",
    "compress_button = tk.Button(app, text=\"Compress\", command=compress_file)\n",
    "compress_button.pack(pady=10)\n",
    "\n",
    "result_label = tk.Label(app, text=\"\", justify=\"left\")\n",
    "result_label.pack(pady=10)\n",
    "\n",
    "save_button = tk.Button(app, text=\"Save Compressed Files\", command=save_files)\n",
    "save_button.pack(pady=10)\n",
    "\n",
    "app.mainloop()"
   ]
  }
 ],
 "metadata": {
  "kernelspec": {
   "display_name": "notebook",
   "language": "python",
   "name": "python3"
  },
  "language_info": {
   "codemirror_mode": {
    "name": "ipython",
    "version": 3
   },
   "file_extension": ".py",
   "mimetype": "text/x-python",
   "name": "python",
   "nbconvert_exporter": "python",
   "pygments_lexer": "ipython3",
   "version": "3.12.4"
  }
 },
 "nbformat": 4,
 "nbformat_minor": 2
}
